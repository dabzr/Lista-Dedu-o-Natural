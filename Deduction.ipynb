{
 "cells": [
  {
   "cell_type": "code",
   "execution_count": null,
   "id": "Hbol",
   "metadata": {},
   "outputs": [],
   "source": [
    "from nadia.nadia_pt_fo import check_proof"
   ]
  },
  {
   "cell_type": "code",
   "execution_count": null,
   "id": "MJUe",
   "metadata": {},
   "outputs": [],
   "source": [
    "import marimo as mo"
   ]
  },
  {
   "cell_type": "markdown",
   "id": "vblA",
   "metadata": {
    "marimo": {
     "config": {
      "hide_code": true
     }
    }
   },
   "source": [
    "## Lista de Dedução Natural"
   ]
  },
  {
   "cell_type": "markdown",
   "id": "bkHC",
   "metadata": {
    "marimo": {
     "config": {
      "hide_code": true
     }
    }
   },
   "source": [
    "Questão 1\n",
    "\n",
    "∀xP(x) ∨ Q(y) ⊢ ∀x(P(x) ∨ Q(y))"
   ]
  },
  {
   "cell_type": "code",
   "execution_count": null,
   "id": "lEQa",
   "metadata": {
    "marimo": {
     "config": {
      "hide_code": true
     }
    }
   },
   "outputs": [],
   "source": [
    "q1 = \"\"\"\n",
    "1. AxP(x) | Q(y)     pre\n",
    "2. { a\n",
    "3.    { AxP(x)       hip\n",
    "4.      P(a)         Ae 3\n",
    "5.      P(a) | Q(y)  |i 4\n",
    "      }\n",
    "6.    { Q(y)         hip\n",
    "7.      P(a) | Q(y)  |i 6\n",
    "      }\n",
    "8. P(a) | Q(y)       |e 1, 3-5, 6-7\n",
    "}\n",
    "9. Ax(P(x) | Q(y)) Ai 2-8\n",
    "\"\"\"\n",
    "mo.show_code()"
   ]
  },
  {
   "cell_type": "code",
   "execution_count": null,
   "id": "PKri",
   "metadata": {
    "marimo": {
     "config": {
      "hide_code": true
     }
    }
   },
   "outputs": [],
   "source": [
    "mo.md(check_proof(q1, display_fitch=False, display_gentzen=False))"
   ]
  },
  {
   "cell_type": "markdown",
   "id": "Xref",
   "metadata": {
    "marimo": {
     "config": {
      "hide_code": true
     }
    }
   },
   "source": [
    "Questão 2\n",
    "\n",
    "∀x(P(x) ∨ Q(y)) ⊢ ∀xP(x) ∨ Q(y)"
   ]
  },
  {
   "cell_type": "code",
   "execution_count": null,
   "id": "SFPL",
   "metadata": {
    "marimo": {
     "config": {
      "hide_code": true
     }
    }
   },
   "outputs": [],
   "source": [
    "q2 = \"\"\"\n",
    "1. Ax(P(x) | Q(y))     pre\n",
    "2. { ~(AxP(x) | Q(y))  hip\n",
    "3.   { Q(y)            hip\n",
    "4.     AxP(x) | Q(y)   |i 3\n",
    "5.     @               ~e 2, 4\n",
    "     }\n",
    "6.   ~Q(y)             ~i 3-5\n",
    "7.   { a\n",
    "8.     P(a) | Q(y)     Ae 1\n",
    "9.     {P(a)           hip}\n",
    "10.    { Q(y)          hip\n",
    "11.     @              ~e 6, 10\n",
    "12.     P(a)           @e 11\n",
    "       }\n",
    "13.    P(a)            |e 8, 9-9, 10-12\n",
    "     }\n",
    "14.  AxP(x)            Ai 7-13\n",
    "15.  AxP(x) | Q(y)     |i 14\n",
    "16.  @                 ~e 2, 15\n",
    "   }\n",
    "17. AxP(x) | Q(y)      raa 2-16\n",
    "\"\"\"\n",
    "mo.show_code()"
   ]
  },
  {
   "cell_type": "code",
   "execution_count": null,
   "id": "BYtC",
   "metadata": {
    "marimo": {
     "config": {
      "hide_code": true
     }
    }
   },
   "outputs": [],
   "source": [
    "mo.md(check_proof(q2, display_fitch=False, display_gentzen=False))"
   ]
  },
  {
   "cell_type": "markdown",
   "id": "RGSE",
   "metadata": {
    "marimo": {
     "config": {
      "hide_code": true
     }
    }
   },
   "source": [
    "Questão 3\n",
    "\n",
    "∃xP(x) ∨ ∃xQ(x) ⊢ ∃x(P(x) ∨ Q(x))"
   ]
  },
  {
   "cell_type": "code",
   "execution_count": null,
   "id": "Kclp",
   "metadata": {
    "marimo": {
     "config": {
      "hide_code": true
     }
    }
   },
   "outputs": [],
   "source": [
    "q3 = \"\"\"\n",
    "1. ExP(x) | ExQ(x)     pre\n",
    "2. { ExP(x)            hip\n",
    "3.   { a P(a)          hip\n",
    "4.     P(a) | Q(a)     |i 3\n",
    "5.     Ex(P(x) | Q(x)) Ei 4\n",
    "     }\n",
    "6.   Ex(P(x) | Q(x))   Ee 2, 3-5\n",
    "   }\n",
    "7. { ExQ(x)            hip\n",
    "8.   {a Q(a)           hip\n",
    "9.    P(a) | Q(a)      |i 8\n",
    "10.   Ex(P(x) | Q(x))  Ei 9\n",
    "     }\n",
    "11.  Ex(P(x) | Q(x))   Ee 7, 8-10\n",
    "   }\n",
    "12. Ex(P(x) | Q(x))    |e 1, 2-6, 7-11\n",
    "\"\"\"\n",
    "mo.show_code()"
   ]
  },
  {
   "cell_type": "code",
   "execution_count": null,
   "id": "emfo",
   "metadata": {
    "marimo": {
     "config": {
      "hide_code": true
     }
    }
   },
   "outputs": [],
   "source": [
    "mo.md(check_proof(q3, display_fitch=False, display_gentzen=False))"
   ]
  },
  {
   "cell_type": "markdown",
   "id": "Hstk",
   "metadata": {
    "marimo": {
     "config": {
      "hide_code": true
     }
    }
   },
   "source": [
    "Questão 4\n",
    "\n",
    "∃x(P(x) ∨ Q(x)) ⊢ ∃xP(x) ∨ ∃xQ(x)"
   ]
  },
  {
   "cell_type": "code",
   "execution_count": null,
   "id": "nWHF",
   "metadata": {
    "marimo": {
     "config": {
      "hide_code": true
     }
    }
   },
   "outputs": [],
   "source": [
    "q4 = \"\"\"\n",
    "1. Ex(P(x) | Q(x))      pre\n",
    "2. { a P(a) | Q(a)      hip\n",
    "3.   {P(a)              hip\n",
    "4.    ExP(x)            Ei 3\n",
    "5.    ExP(x) | ExQ(x)   |i 4\n",
    "     }\n",
    "6.   {Q(a)              hip\n",
    "7.    ExQ(x)            Ei 6\n",
    "8.    ExP(x) | ExQ(x)   |i 7\n",
    "     }\n",
    "9.   ExP(x) | ExQ(x)    |e 2, 3-5, 6-8\n",
    "  }\n",
    "10. ExP(x) | ExQ(x)     Ee 1, 2-9\n",
    "\"\"\"\n",
    "mo.show_code()"
   ]
  },
  {
   "cell_type": "code",
   "execution_count": null,
   "id": "iLit",
   "metadata": {
    "marimo": {
     "config": {
      "hide_code": true
     }
    }
   },
   "outputs": [],
   "source": [
    "mo.md(check_proof(q4, display_fitch=False, display_gentzen=False))"
   ]
  }
 ],
 "metadata": {},
 "nbformat": 4,
 "nbformat_minor": 5
}
